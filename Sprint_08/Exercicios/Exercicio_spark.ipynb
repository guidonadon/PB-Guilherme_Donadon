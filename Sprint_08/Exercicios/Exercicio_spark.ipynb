{
 "cells": [
  {
   "cell_type": "code",
   "execution_count": 2,
   "id": "efceb9bc-44a8-431f-b134-d9d34f5170e3",
   "metadata": {},
   "outputs": [
    {
     "name": "stdout",
     "output_type": "stream",
     "text": [
      "+-----------------+\n",
      "|   Frances Bennet|\n",
      "+-----------------+\n",
      "|    Jamie Russell|\n",
      "|   Edward Kistler|\n",
      "|    Sheila Maurer|\n",
      "| Donald Golightly|\n",
      "|       David Gray|\n",
      "|      Joy Bennett|\n",
      "|      Paul Kriese|\n",
      "|Berniece Ornellas|\n",
      "|    Brian Farrell|\n",
      "|   Kara Mcelwaine|\n",
      "+-----------------+\n",
      "only showing top 10 rows\n",
      "\n",
      "root\n",
      " |-- Frances Bennet: string (nullable = true)\n",
      "\n",
      "+-----------------+\n",
      "|   Frances Bennet|\n",
      "+-----------------+\n",
      "|    Jamie Russell|\n",
      "|   Edward Kistler|\n",
      "|    Sheila Maurer|\n",
      "| Donald Golightly|\n",
      "|       David Gray|\n",
      "|      Joy Bennett|\n",
      "|      Paul Kriese|\n",
      "|Berniece Ornellas|\n",
      "|    Brian Farrell|\n",
      "|   Kara Mcelwaine|\n",
      "+-----------------+\n",
      "only showing top 10 rows\n",
      "\n",
      "+-----------------+------------+---------+-------------+\n",
      "|   Frances Bennet|Escolaridade|     Pais|AnoNascimento|\n",
      "+-----------------+------------+---------+-------------+\n",
      "|    Jamie Russell|    Superior| Paraguai|         1969|\n",
      "|   Edward Kistler|    Superior|    Chile|         1993|\n",
      "|    Sheila Maurer|       Medio|Venezuela|         1966|\n",
      "| Donald Golightly| Fundamental|Venezuela|         1966|\n",
      "|       David Gray| Fundamental|     Peru|         1980|\n",
      "|      Joy Bennett| Fundamental|     Peru|         1945|\n",
      "|      Paul Kriese| Fundamental|    Chile|         1945|\n",
      "|Berniece Ornellas|    Superior|   Brasil|         2007|\n",
      "|    Brian Farrell|    Superior|Venezuela|         2007|\n",
      "|   Kara Mcelwaine| Fundamental| Paraguai|         2000|\n",
      "+-----------------+------------+---------+-------------+\n",
      "only showing top 10 rows\n",
      "\n"
     ]
    },
    {
     "name": "stderr",
     "output_type": "stream",
     "text": [
      "/usr/local/spark/python/pyspark/sql/column.py:460: FutureWarning: A column as 'key' in getItem is deprecated as of Spark 3.0, and will not be supported in the future release. Use `column[key]` or `column.key` syntax instead.\n",
      "  warnings.warn(\n"
     ]
    }
   ],
   "source": [
    "from pyspark.sql import SparkSession\n",
    "from pyspark.sql.functions import lit, col, rand, floor\n",
    "\n",
    "spark = SparkSession.builder \\\n",
    "    .appName(\"Exercicio Intro\") \\\n",
    "    .master(\"local[*]\") \\\n",
    "    .getOrCreate()\n",
    "\n",
    "df_nomes = spark.read.csv(\"/home/jovyan/work/Nomes_aleatorios.txt\", header=True, inferSchema=True)\n",
    "\n",
    "df_nomes.show(10)\n",
    "\n",
    "df_nomes = df_nomes.withColumnRenamed(\"nome\", \"Nomes\")\n",
    "\n",
    "df_nomes.printSchema()\n",
    "df_nomes.show(10)\n",
    "\n",
    "escolaridades = [\"Fundamental\", \"Medio\", \"Superior\"]\n",
    "df_nomes = df_nomes.withColumn(\"Escolaridade\", lit(escolaridades).getItem((rand() * 3).cast(\"int\")))\n",
    "\n",
    "paises = [\"Argentina\", \"Brasil\", \"Chile\", \"Colômbia\", \"Equador\", \"Paraguai\", \"Peru\", \"Uruguai\", \"Venezuela\"]\n",
    "df_nomes = df_nomes.withColumn(\"Pais\", lit(paises).getItem((rand() * len(paises)).cast(\"int\")))\n",
    "\n",
    "df_nomes = df_nomes.withColumn(\"AnoNascimento\", (floor(rand() * (2010 - 1945 + 1)) + 1945).cast(\"int\"))\n",
    "\n",
    "df_nomes.show(10)\n"
   ]
  },
  {
   "cell_type": "code",
   "execution_count": 5,
   "id": "e19acf0e-f148-47f4-b717-f21fa8863d31",
   "metadata": {},
   "outputs": [
    {
     "name": "stdout",
     "output_type": "stream",
     "text": [
      "+-----------------+------------+---------+-------------+\n",
      "|   Frances Bennet|Escolaridade|     Pais|AnoNascimento|\n",
      "+-----------------+------------+---------+-------------+\n",
      "|Berniece Ornellas|    Superior|   Brasil|         2007|\n",
      "|    Brian Farrell|    Superior|Venezuela|         2007|\n",
      "|   Kara Mcelwaine| Fundamental| Paraguai|         2000|\n",
      "|  Helen Blackwell|       Medio| Paraguai|         2002|\n",
      "|   Amanda Gravitt|       Medio|   Brasil|         2003|\n",
      "|  Jerry Chynoweth|       Medio| Colômbia|         2003|\n",
      "|   Rosie Lovelady|    Superior|  Uruguai|         2004|\n",
      "|      Donald Vogt|    Superior| Colômbia|         2004|\n",
      "| Flossie Anderson|    Superior|Venezuela|         2007|\n",
      "|    Lynne Dustman|    Superior|Venezuela|         2005|\n",
      "+-----------------+------------+---------+-------------+\n",
      "only showing top 10 rows\n",
      "\n"
     ]
    }
   ],
   "source": [
    "df_select = df_nomes.filter(col(\"AnoNascimento\") >= 2000)\n",
    "\n",
    "df_select.show(10)"
   ]
  },
  {
   "cell_type": "code",
   "execution_count": 6,
   "id": "06d56598-3154-4de0-8d5c-c96e25aa217f",
   "metadata": {},
   "outputs": [
    {
     "name": "stdout",
     "output_type": "stream",
     "text": [
      "+-----------------+------------+---------+-------------+\n",
      "|   Frances Bennet|Escolaridade|     Pais|AnoNascimento|\n",
      "+-----------------+------------+---------+-------------+\n",
      "|Berniece Ornellas|    Superior|   Brasil|         2007|\n",
      "|    Brian Farrell|    Superior|Venezuela|         2007|\n",
      "|   Kara Mcelwaine| Fundamental| Paraguai|         2000|\n",
      "|  Helen Blackwell|       Medio| Paraguai|         2002|\n",
      "|   Amanda Gravitt|       Medio|   Brasil|         2003|\n",
      "|  Jerry Chynoweth|       Medio| Colômbia|         2003|\n",
      "|   Rosie Lovelady|    Superior|  Uruguai|         2004|\n",
      "|      Donald Vogt|    Superior| Colômbia|         2004|\n",
      "| Flossie Anderson|    Superior|Venezuela|         2007|\n",
      "|    Lynne Dustman|    Superior|Venezuela|         2005|\n",
      "+-----------------+------------+---------+-------------+\n",
      "only showing top 10 rows\n",
      "\n"
     ]
    }
   ],
   "source": [
    "df_nomes.createOrReplaceTempView(\"nomes\")\n",
    "\n",
    "df_select_sql = spark.sql(\"SELECT * FROM nomes WHERE AnoNascimento >= 2000\")\n",
    "\n",
    "df_select_sql.show(10)\n"
   ]
  },
  {
   "cell_type": "code",
   "execution_count": 7,
   "id": "6cceb56e-41dd-4c4b-8c28-12e8630ede74",
   "metadata": {},
   "outputs": [
    {
     "name": "stdout",
     "output_type": "stream",
     "text": [
      "Quantidade de Millennials: 2273619\n"
     ]
    }
   ],
   "source": [
    "millennials_count = df_nomes.filter((col(\"AnoNascimento\") >= 1980) & (col(\"AnoNascimento\") <= 1994)).count()\n",
    "print(f\"Quantidade de Millennials: {millennials_count}\")"
   ]
  },
  {
   "cell_type": "code",
   "execution_count": 8,
   "id": "b6abef8f-82cc-42bc-bdaf-dedf4a996fcd",
   "metadata": {},
   "outputs": [
    {
     "name": "stdout",
     "output_type": "stream",
     "text": [
      "+-----------+\n",
      "|Millennials|\n",
      "+-----------+\n",
      "|    2273619|\n",
      "+-----------+\n",
      "\n"
     ]
    }
   ],
   "source": [
    "millennials_count_sql = spark.sql(\"SELECT COUNT(*) AS Millennials FROM nomes WHERE AnoNascimento BETWEEN 1980 AND 1994\")\n",
    "millennials_count_sql.show()"
   ]
  },
  {
   "cell_type": "code",
   "execution_count": 10,
   "id": "3b01ca9c-e8f4-41cf-a68d-1de546882745",
   "metadata": {},
   "outputs": [
    {
     "name": "stdout",
     "output_type": "stream",
     "text": [
      "+---------+------------+----------+\n",
      "|     Pais|     Geracao|Quantidade|\n",
      "+---------+------------+----------+\n",
      "|Argentina|Baby Boomers|    336336|\n",
      "|Argentina|   Geração X|    252274|\n",
      "|Argentina|   Geração Z|    269198|\n",
      "|Argentina| Millennials|    252649|\n",
      "|   Brasil|Baby Boomers|    336317|\n",
      "|   Brasil|   Geração X|    252400|\n",
      "|   Brasil|   Geração Z|    269712|\n",
      "|   Brasil| Millennials|    251650|\n",
      "|    Chile|Baby Boomers|    336133|\n",
      "|    Chile|   Geração X|    252948|\n",
      "|    Chile|   Geração Z|    269450|\n",
      "|    Chile| Millennials|    253422|\n",
      "| Colômbia|Baby Boomers|    336917|\n",
      "| Colômbia|   Geração X|    252756|\n",
      "| Colômbia|   Geração Z|    268989|\n",
      "| Colômbia| Millennials|    252868|\n",
      "|  Equador|Baby Boomers|    336813|\n",
      "|  Equador|   Geração X|    252791|\n",
      "|  Equador|   Geração Z|    269591|\n",
      "|  Equador| Millennials|    252797|\n",
      "+---------+------------+----------+\n",
      "only showing top 20 rows\n",
      "\n"
     ]
    }
   ],
   "source": [
    "df_nomes = df_nomes.withColumnRenamed(\"País\", \"Pais\")\n",
    "\n",
    "df_nomes.createOrReplaceTempView(\"nomes\")\n",
    "\n",
    "geracoes_query = \"\"\"\n",
    "SELECT \n",
    "    Pais,\n",
    "    CASE \n",
    "        WHEN AnoNascimento BETWEEN 1944 AND 1964 THEN 'Baby Boomers'\n",
    "        WHEN AnoNascimento BETWEEN 1965 AND 1979 THEN 'Geração X'\n",
    "        WHEN AnoNascimento BETWEEN 1980 AND 1994 THEN 'Millennials'\n",
    "        WHEN AnoNascimento BETWEEN 1995 AND 2015 THEN 'Geração Z'\n",
    "    END AS Geracao,\n",
    "    COUNT(*) AS Quantidade\n",
    "FROM nomes\n",
    "GROUP BY Pais, Geracao\n",
    "ORDER BY Pais, Geracao\n",
    "\"\"\"\n",
    "\n",
    "df_geracoes = spark.sql(geracoes_query)\n",
    "\n",
    "df_geracoes.show()"
   ]
  }
 ],
 "metadata": {
  "kernelspec": {
   "display_name": "Python 3 (ipykernel)",
   "language": "python",
   "name": "python3"
  },
  "language_info": {
   "codemirror_mode": {
    "name": "ipython",
    "version": 3
   },
   "file_extension": ".py",
   "mimetype": "text/x-python",
   "name": "python",
   "nbconvert_exporter": "python",
   "pygments_lexer": "ipython3",
   "version": "3.11.6"
  }
 },
 "nbformat": 4,
 "nbformat_minor": 5
}
